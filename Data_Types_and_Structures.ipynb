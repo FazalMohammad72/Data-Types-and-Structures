{
  "cells": [
    {
      "cell_type": "markdown",
      "source": [
        "**Data Types and Structures Questions**\n",
        "\n",
        "\n",
        "---\n",
        "\n"
      ],
      "metadata": {
        "id": "hfPuW4s42SFL"
      }
    },
    {
      "cell_type": "markdown",
      "source": [
        "1.  What are data structures, and why are they important?\n",
        "-->Data structures are ways of organizing and storing data so it can be         accessed and modified efficiently. They are important because they:\n",
        "     .Improve performance.\n",
        "     .Provide efficient data management.\n",
        "\n",
        "2. Explain the difference between mutable and immutable data types with examples.\n",
        "--> **Mutable data types**:- These are the data type which can be changed after     creation. e.g: list,set, dictionary\n",
        "     Immutable data typesthese are the data type which cannot can once created. e.g: float ,tuple,int , float\n",
        "\n",
        "3. What are the main differences between lists and tuples in Python.\n",
        "--> . lists are mutable whereas tuples are immutable.\n",
        "   . lists are slight slow whereas tuples are faster.\n",
        "\n",
        "4. Describe how dictionaries store data.\n",
        "--> Dictionaries store data as key-value pairs.\n",
        "\n",
        "5. Why might you use a set instead of a list in Python.\n",
        "--> Because:\n",
        "     .To have unique elements.\n",
        "     . Membership check is faster.\n",
        "\n",
        "6. What is a string in Python, and how is it different from a list.\n",
        "--> String are immutable sequence of    characters.whereas lists are mutable sequence of elements.\n",
        "\n",
        "7. How do tuples ensure data integrity in Python.\n",
        "--> Tuples are immutable, meaning their contents can't be altered. This:\n",
        "     . Prevents accidental changes.\n",
        "     . Makes them safer for storing constant data\n",
        "\n",
        "8. What is a hash table, and how does it relate to dictionaries in Python.\n",
        "--> A hash table maps keys to values using a hash function.\n",
        "Dictionaries in Python are implemented using hash tables.\n",
        "\n",
        "9. Can lists contain different data types in Python.\n",
        "--> Yes, lists can contain different data types in pthon.\n",
        "\n",
        "10. Explain why strings are immutable in Python.\n",
        "--> Strings are immutable in Python to ensure performance , allow hashability for use in dictionaries and sets.\n",
        "11. What advantages do dictionaries offer over lists for certain tasks.\n",
        "\n",
        "-->Dictionaries offer these advantages over lists:\n",
        "\n",
        ". No need to track index positions\n",
        ". Better for sparse or dynamic data\n",
        ". Easier to update or modify specific items.\n",
        "\n",
        "12. Describe a scenario where using a tuple would be preferable over a list.\n",
        "--> where we don't want to change data,we prefer tuple over list.\n",
        "\n",
        "13. How do sets handle duplicate values in Python.\n",
        "-->Sets automatically removes duplicate values in python.\n",
        "\n",
        "14. How does the “in” keyword work differently for lists and dictionaries.\n",
        "-->  .In lists: in checks for a value\n",
        "     .  In dictionaries: in checks for a key\n",
        "15. Can you modify the elements of a tuple? Explain why or why not.\n",
        "--> No. tuples are immutable.Once created can not be changed.\n",
        "\n",
        "16. What is a nested dictionary, and give an example of its use case.\n",
        "--> Nested dictionary is a dictionary inside a dictionary.\n",
        "    Example:-\n",
        "students = {\n",
        "  \"John\": {\"age\": 20, \"major\": \"Math\"},\n",
        "  \"Jane\": {\"age\": 22, \"major\": \"CS\"}\n",
        "}\n",
        "\n",
        "17. Describe the time complexity of accessing elements in a dictionary.\n",
        "--> Average-case: O(1) (constant time)\n",
        "\n",
        "     Worst-case: O(n) (rare, due to hash collisions)\n",
        "\n",
        "18. In what situations are lists preferred over dictionaries.\n",
        "--> when you are dealing with sequences or collections of items without keys.\n",
        "\n",
        "19. Why are dictionaries considered unordered, and how does that affect data retrieval.\n",
        "--> Dictionaries preserve insertion order, but they're still considered unordered in concept because:\n",
        "\n",
        ".Retrieval is based on keys, not position.\n",
        ".You don,t access items by index.\n",
        "\n",
        "\n",
        "20. Explain the difference between a list and a dictionary in terms of data retrieval.\n",
        "--> Access Method:\n",
        ".List: Access elements using an index (e.g., my_list[0]).\n",
        ".Dictionary: Access elements using a    key (e.g., my_dict[\"name\"])\n",
        "\n",
        "   .List: Can have duplicate values.\n",
        "   .Dictionary: Keys must be unique, but values can be duplicated."
      ],
      "metadata": {
        "id": "XyUMyCnN2xTP"
      }
    },
    {
      "cell_type": "markdown",
      "source": [
        "**Practical Questions**\n",
        "\n",
        "---\n",
        "\n"
      ],
      "metadata": {
        "id": "JNL1FAD72r7k"
      }
    },
    {
      "cell_type": "markdown",
      "source": [
        "1. Write a code to create a string with your name and print it."
      ],
      "metadata": {
        "id": "Zv0Fe9sJc8CH"
      }
    },
    {
      "cell_type": "code",
      "source": [
        "name=\"Fazal Mohammad\"\n",
        "print(name)"
      ],
      "metadata": {
        "id": "6_s_N60qc_v_",
        "outputId": "6461351d-c16b-4b31-93ee-2c811c5a3812",
        "colab": {
          "base_uri": "https://localhost:8080/"
        }
      },
      "execution_count": null,
      "outputs": [
        {
          "output_type": "stream",
          "name": "stdout",
          "text": [
            "Fazal Mohammad\n"
          ]
        }
      ]
    },
    {
      "cell_type": "markdown",
      "source": [
        "2. Write a code to find the length of the string \"Hello World\"."
      ],
      "metadata": {
        "id": "1Xyjz0z3dLsb"
      }
    },
    {
      "cell_type": "code",
      "source": [
        "a= \"Hello World\"\n",
        "print(len(a))"
      ],
      "metadata": {
        "id": "5VHTgpPhdPTT",
        "outputId": "b050a44a-0ef9-41d1-e522-4a631eb0a6db",
        "colab": {
          "base_uri": "https://localhost:8080/"
        }
      },
      "execution_count": null,
      "outputs": [
        {
          "output_type": "stream",
          "name": "stdout",
          "text": [
            "11\n"
          ]
        }
      ]
    },
    {
      "cell_type": "markdown",
      "source": [
        "3. Write a code to slice the first 3 characters from the string \"Python Programming\"."
      ],
      "metadata": {
        "id": "Fy55G8fndYri"
      }
    },
    {
      "cell_type": "code",
      "source": [
        "a=\"Python Programming\"\n",
        "print(a[:3])"
      ],
      "metadata": {
        "id": "7cAZfBP4dYSl",
        "outputId": "0e266156-845e-44ab-e79c-88b84684bf8c",
        "colab": {
          "base_uri": "https://localhost:8080/"
        }
      },
      "execution_count": null,
      "outputs": [
        {
          "output_type": "stream",
          "name": "stdout",
          "text": [
            "Pyt\n"
          ]
        }
      ]
    },
    {
      "cell_type": "markdown",
      "source": [
        "4. Write a code to convert the string \"hello\" to uppercase."
      ],
      "metadata": {
        "id": "p30PC54rdwVn"
      }
    },
    {
      "cell_type": "code",
      "source": [
        "a=\"hello\"\n",
        "print(a.upper())"
      ],
      "metadata": {
        "id": "__M7VTAhd0cB",
        "outputId": "ba561aca-8fb3-4a7f-d36a-63a316ce395c",
        "colab": {
          "base_uri": "https://localhost:8080/"
        }
      },
      "execution_count": null,
      "outputs": [
        {
          "output_type": "stream",
          "name": "stdout",
          "text": [
            "HELLO\n"
          ]
        }
      ]
    },
    {
      "cell_type": "markdown",
      "source": [
        "5. Write a code to replace the word \"apple\" with \"orange\" in the string \"I like apple\"."
      ],
      "metadata": {
        "id": "uZgazr4sd-h4"
      }
    },
    {
      "cell_type": "code",
      "source": [
        "b=\"I like apple.\"\n",
        "print(b.replace(\"apple\",\"orange\"))"
      ],
      "metadata": {
        "id": "r2YR17ngd9_2",
        "outputId": "bfbcdf51-2588-4e27-fbb6-930b83bfd929",
        "colab": {
          "base_uri": "https://localhost:8080/"
        }
      },
      "execution_count": null,
      "outputs": [
        {
          "output_type": "stream",
          "name": "stdout",
          "text": [
            "I like orange.\n"
          ]
        }
      ]
    },
    {
      "cell_type": "markdown",
      "source": [
        "6. Write a code to create a list with numbers 1 to 5 and print it"
      ],
      "metadata": {
        "id": "-GE2bsnseQbs"
      }
    },
    {
      "cell_type": "code",
      "source": [
        "a=[1,2,3,4,5]\n",
        "print(a)"
      ],
      "metadata": {
        "id": "oSOAyVsveO6z",
        "outputId": "559a833d-a0f1-4254-cb4f-2ddb1d5aa9c3",
        "colab": {
          "base_uri": "https://localhost:8080/"
        }
      },
      "execution_count": null,
      "outputs": [
        {
          "output_type": "stream",
          "name": "stdout",
          "text": [
            "[1, 2, 3, 4, 5]\n"
          ]
        }
      ]
    },
    {
      "cell_type": "markdown",
      "source": [
        "7. Write a code to append the number 10 to the list [1, 2, 3, 4]."
      ],
      "metadata": {
        "id": "_zt_Oqq5ebST"
      }
    },
    {
      "cell_type": "code",
      "source": [
        "a=[1,2,3,4]\n",
        "a.append(10)\n",
        "print(a)"
      ],
      "metadata": {
        "id": "DsEtWnQyef03",
        "outputId": "66870d1c-31e8-48ec-8b8f-e56f84631259",
        "colab": {
          "base_uri": "https://localhost:8080/"
        }
      },
      "execution_count": null,
      "outputs": [
        {
          "output_type": "stream",
          "name": "stdout",
          "text": [
            "[1, 2, 3, 4, 10]\n"
          ]
        }
      ]
    },
    {
      "cell_type": "markdown",
      "source": [
        "8. Write a code to remove the number 3 from the list [1, 2, 3, 4, 5]."
      ],
      "metadata": {
        "id": "aa8r_72wfA0p"
      }
    },
    {
      "cell_type": "code",
      "source": [
        "a=[1,2,3,4,5]\n",
        "a.remove(3)\n",
        "print(a)"
      ],
      "metadata": {
        "id": "lCKQKitgfCzb",
        "outputId": "0c972a81-7583-4867-ea9c-96d9d9d8bf27",
        "colab": {
          "base_uri": "https://localhost:8080/"
        }
      },
      "execution_count": null,
      "outputs": [
        {
          "output_type": "stream",
          "name": "stdout",
          "text": [
            "[1, 2, 4, 5]\n"
          ]
        }
      ]
    },
    {
      "cell_type": "markdown",
      "source": [
        "9. Write a code to access the second element in the list ['a', 'b', 'c', 'd']."
      ],
      "metadata": {
        "id": "OVdkwW3tfNFQ"
      }
    },
    {
      "cell_type": "code",
      "source": [
        "list=['a', 'b', 'c', 'd']\n",
        "print(list[1])"
      ],
      "metadata": {
        "id": "cXtfveagfRNH",
        "outputId": "73d4253a-50b7-443d-fe15-20db2df53f9f",
        "colab": {
          "base_uri": "https://localhost:8080/"
        }
      },
      "execution_count": null,
      "outputs": [
        {
          "output_type": "stream",
          "name": "stdout",
          "text": [
            "b\n"
          ]
        }
      ]
    },
    {
      "cell_type": "markdown",
      "source": [
        "10. Write a code to reverse the list [10, 20, 30, 40, 50]."
      ],
      "metadata": {
        "id": "a1QaAk3Gfdvr"
      }
    },
    {
      "cell_type": "code",
      "source": [
        "list=[10, 20, 30, 40, 50]\n",
        "print(list[::-1])\n"
      ],
      "metadata": {
        "id": "aUDiPvC4fgy0",
        "outputId": "744ecfc0-a833-4ec6-9349-962f46ca95c4",
        "colab": {
          "base_uri": "https://localhost:8080/"
        }
      },
      "execution_count": null,
      "outputs": [
        {
          "output_type": "stream",
          "name": "stdout",
          "text": [
            "[50, 40, 30, 20, 10]\n"
          ]
        }
      ]
    },
    {
      "cell_type": "markdown",
      "source": [
        "11.  Write a code to create a tuple with the elements 100, 200, 300 and print it."
      ],
      "metadata": {
        "id": "ujS4v3uGgDo7"
      }
    },
    {
      "cell_type": "code",
      "source": [
        "a=(100,200,300)\n",
        "print(a)\n"
      ],
      "metadata": {
        "id": "0JZXlsUfgHLL",
        "outputId": "b53ed7cc-daf5-4d51-b113-8635f027a1d7",
        "colab": {
          "base_uri": "https://localhost:8080/"
        }
      },
      "execution_count": null,
      "outputs": [
        {
          "output_type": "stream",
          "name": "stdout",
          "text": [
            "(100, 200, 300)\n"
          ]
        }
      ]
    },
    {
      "cell_type": "markdown",
      "source": [
        "12. Write a code to access the second-to-last element of the tuple ('red', 'green', 'blue', 'yellow')."
      ],
      "metadata": {
        "id": "q8ZtkvSugTHX"
      }
    },
    {
      "cell_type": "code",
      "source": [
        "t=('red', 'green', 'blue', 'yellow')\n",
        "print(t[1:])"
      ],
      "metadata": {
        "id": "d8V0VLCdgbEK",
        "outputId": "ca4e42a8-ca97-4af1-b531-b1692a6589a1",
        "colab": {
          "base_uri": "https://localhost:8080/"
        }
      },
      "execution_count": null,
      "outputs": [
        {
          "output_type": "stream",
          "name": "stdout",
          "text": [
            "('green', 'blue', 'yellow')\n"
          ]
        }
      ]
    },
    {
      "cell_type": "markdown",
      "source": [
        "13. Write a code to find the minimum number in the tuple (10, 20, 5, 15)."
      ],
      "metadata": {
        "id": "ieskEIDSgo3Y"
      }
    },
    {
      "cell_type": "code",
      "source": [
        "t=(10, 20, 5, 15)\n",
        "print(min(t))"
      ],
      "metadata": {
        "id": "RrOxmWk0gsqy",
        "outputId": "d64a2a99-e741-4135-9bf5-697ff037674d",
        "colab": {
          "base_uri": "https://localhost:8080/"
        }
      },
      "execution_count": null,
      "outputs": [
        {
          "output_type": "stream",
          "name": "stdout",
          "text": [
            "5\n"
          ]
        }
      ]
    },
    {
      "cell_type": "markdown",
      "source": [
        "14.  Write a code to find the index of the element \"cat\" in the tuple ('dog', 'cat', 'rabbit')."
      ],
      "metadata": {
        "id": "zSlRu89Bg0g8"
      }
    },
    {
      "cell_type": "code",
      "source": [
        "t= ('dog', 'cat', 'rabbit')\n",
        "print(t.index(\"cat\"))"
      ],
      "metadata": {
        "id": "vTgIwGNSg4OO",
        "outputId": "583272da-c150-4b19-8f66-1b3f59c4b2f5",
        "colab": {
          "base_uri": "https://localhost:8080/"
        }
      },
      "execution_count": null,
      "outputs": [
        {
          "output_type": "stream",
          "name": "stdout",
          "text": [
            "1\n"
          ]
        }
      ]
    },
    {
      "cell_type": "markdown",
      "source": [
        "15. Write a code to create a tuple containing three different fruits and check if \"kiwi\" is in it."
      ],
      "metadata": {
        "id": "ATbmVC9uhJXY"
      }
    },
    {
      "cell_type": "code",
      "source": [
        "fruits=(\"Apple\",\"Mango\",\"Grapes\",\"Kiwi\")\n",
        "print(\"Kiwi\" in  fruits)"
      ],
      "metadata": {
        "id": "83znzKAbhLxC",
        "outputId": "a4cc249d-94f4-4add-c79e-82b5ad821702",
        "colab": {
          "base_uri": "https://localhost:8080/"
        }
      },
      "execution_count": null,
      "outputs": [
        {
          "output_type": "stream",
          "name": "stdout",
          "text": [
            "True\n"
          ]
        }
      ]
    },
    {
      "cell_type": "markdown",
      "source": [
        "16. Write a code to create a set with the elements 'a', 'b', 'c' and print it."
      ],
      "metadata": {
        "id": "NEaXeWMMhppV"
      }
    },
    {
      "cell_type": "code",
      "source": [
        "s={'a', 'b', 'c' }\n",
        "print(s)\n"
      ],
      "metadata": {
        "id": "5TeUGHAWhuwP",
        "outputId": "6426e627-39d2-4a8e-86e3-51b7dc28e05a",
        "colab": {
          "base_uri": "https://localhost:8080/"
        }
      },
      "execution_count": null,
      "outputs": [
        {
          "output_type": "stream",
          "name": "stdout",
          "text": [
            "{'a', 'b', 'c'}\n"
          ]
        }
      ]
    },
    {
      "cell_type": "markdown",
      "source": [
        "17. Write a code to clear all elements from the set {1, 2, 3, 4, 5}."
      ],
      "metadata": {
        "id": "umZCUbOYh6eI"
      }
    },
    {
      "cell_type": "code",
      "source": [
        "s={1,2,3,4,5}\n",
        "s.clear()\n",
        "print(s)"
      ],
      "metadata": {
        "id": "RLBE-WOdh9qG",
        "outputId": "cbdde251-ac6b-4602-f7f3-cff5b112d9b7",
        "colab": {
          "base_uri": "https://localhost:8080/"
        }
      },
      "execution_count": null,
      "outputs": [
        {
          "output_type": "stream",
          "name": "stdout",
          "text": [
            "set()\n"
          ]
        }
      ]
    },
    {
      "cell_type": "markdown",
      "source": [
        "18. Write a code to remove the element 4 from the set {1, 2, 3, 4}."
      ],
      "metadata": {
        "id": "LlKkOSqtiPIS"
      }
    },
    {
      "cell_type": "code",
      "source": [
        "s={1,2,3,4}\n",
        "s.remove(4)\n",
        "print(s)"
      ],
      "metadata": {
        "id": "9iM-u_TMiL-W",
        "outputId": "9fd23614-0f36-4789-f9fb-c35a45ce06fa",
        "colab": {
          "base_uri": "https://localhost:8080/"
        }
      },
      "execution_count": null,
      "outputs": [
        {
          "output_type": "stream",
          "name": "stdout",
          "text": [
            "{1, 2, 3}\n"
          ]
        }
      ]
    },
    {
      "cell_type": "markdown",
      "source": [
        "19. Write a code to find the union of two sets {1, 2, 3} and {3, 4, 5}."
      ],
      "metadata": {
        "id": "vrNu7x8biZSq"
      }
    },
    {
      "cell_type": "code",
      "source": [
        "a={1,2,3}\n",
        "b={3,4,5}\n",
        "print(a|b)"
      ],
      "metadata": {
        "id": "TKBfWGcIioFu",
        "outputId": "db6d4167-0e72-451b-d690-dd99e9cf555b",
        "colab": {
          "base_uri": "https://localhost:8080/"
        }
      },
      "execution_count": null,
      "outputs": [
        {
          "output_type": "stream",
          "name": "stdout",
          "text": [
            "{1, 2, 3, 4, 5}\n"
          ]
        }
      ]
    },
    {
      "cell_type": "markdown",
      "source": [
        "20. Write a code to find the intersection of two sets {1, 2, 3} and {2, 3, 4}."
      ],
      "metadata": {
        "id": "lc8Mlu5XizRi"
      }
    },
    {
      "cell_type": "code",
      "source": [
        "a={1,2,3}\n",
        "b={2,3,4}\n",
        "print(a&b)"
      ],
      "metadata": {
        "id": "aG5UZ1Hki47T",
        "outputId": "5ff1ebb7-f6fe-4d89-e4f7-b48d4c8c643d",
        "colab": {
          "base_uri": "https://localhost:8080/"
        }
      },
      "execution_count": null,
      "outputs": [
        {
          "output_type": "stream",
          "name": "stdout",
          "text": [
            "{2, 3}\n"
          ]
        }
      ]
    },
    {
      "cell_type": "markdown",
      "source": [
        "21. Write a code to create a dictionary with the keys \"name\", \"age\", and \"city\", and print it."
      ],
      "metadata": {
        "id": "DpSe83xkjDL2"
      }
    },
    {
      "cell_type": "code",
      "source": [
        "dic={\"name\":\"Fazal Mohmmad\",\n",
        "     \"age\":26,\n",
        "     \"city\":\"Banda\"}\n",
        "print(dic)"
      ],
      "metadata": {
        "id": "chEMDpmajkl6",
        "outputId": "4cb68077-f32c-4f9d-a83f-179db162f672",
        "colab": {
          "base_uri": "https://localhost:8080/"
        }
      },
      "execution_count": null,
      "outputs": [
        {
          "output_type": "stream",
          "name": "stdout",
          "text": [
            "{'name': 'Fazal Mohmmad', 'age': 26, 'city': 'Banda'}\n"
          ]
        }
      ]
    },
    {
      "cell_type": "markdown",
      "source": [
        "22. Write a code to add a new key-value pair \"country\": \"USA\" to the dictionary {'name': 'John', 'age': 25}."
      ],
      "metadata": {
        "id": "R3fGgRyGkI1p"
      }
    },
    {
      "cell_type": "code",
      "source": [
        "dic={'name': 'John', 'age': 25}\n",
        "dic[\"country\"]=\"USA\"\n",
        "print(dic)"
      ],
      "metadata": {
        "id": "fUDrs7BpkPga",
        "outputId": "5c4d27a7-1aae-4d78-945c-6bf2d236bc81",
        "colab": {
          "base_uri": "https://localhost:8080/"
        }
      },
      "execution_count": null,
      "outputs": [
        {
          "output_type": "stream",
          "name": "stdout",
          "text": [
            "{'name': 'John', 'age': 25, 'country': 'USA'}\n"
          ]
        }
      ]
    },
    {
      "cell_type": "markdown",
      "source": [
        "23.  Write a code to access the value associated with the key \"name\" in the dictionary {'name': 'Alice', 'age': 30}."
      ],
      "metadata": {
        "id": "tHm8RIlvkjIo"
      }
    },
    {
      "cell_type": "code",
      "source": [
        "dic={'name': 'Alice', 'age': 30}\n",
        "print(dic[\"name\"])"
      ],
      "metadata": {
        "id": "xBXnna5Ekn3f",
        "outputId": "38ff6ba7-f380-4f67-b3cc-660ae3cdeeeb",
        "colab": {
          "base_uri": "https://localhost:8080/"
        }
      },
      "execution_count": null,
      "outputs": [
        {
          "output_type": "stream",
          "name": "stdout",
          "text": [
            "Alice\n"
          ]
        }
      ]
    },
    {
      "cell_type": "markdown",
      "source": [
        "24. Write a code to remove the key \"age\" from the dictionary {'name': 'Bob', 'age': 22, 'city': 'New York'}.\n",
        "\n"
      ],
      "metadata": {
        "id": "2VyBNXiplC7S"
      }
    },
    {
      "cell_type": "code",
      "source": [
        "dic={'name': 'Bob', 'age': 22, 'city': 'New York'}\n",
        "dic.pop(\"age\")\n",
        "print(dic)"
      ],
      "metadata": {
        "id": "IQkDf0Q2lHGw",
        "outputId": "e9bc056e-7a16-4011-a5c9-8da79cf4f492",
        "colab": {
          "base_uri": "https://localhost:8080/"
        }
      },
      "execution_count": null,
      "outputs": [
        {
          "output_type": "stream",
          "name": "stdout",
          "text": [
            "{'name': 'Bob', 'city': 'New York'}\n"
          ]
        }
      ]
    },
    {
      "cell_type": "markdown",
      "source": [
        "25. Write a code to check if the key \"city\" exists in the dictionary {'name': 'Alice', 'city': 'Paris'}."
      ],
      "metadata": {
        "id": "eT50RZyil3LG"
      }
    },
    {
      "cell_type": "code",
      "source": [
        "dic={'name': 'Alice', 'city': 'Paris'}\n",
        "print(\"city\" in dic)"
      ],
      "metadata": {
        "id": "zc6jW2CWl97v",
        "outputId": "4a160497-533b-4e59-8f3e-e09c4b4af8be",
        "colab": {
          "base_uri": "https://localhost:8080/"
        }
      },
      "execution_count": null,
      "outputs": [
        {
          "output_type": "stream",
          "name": "stdout",
          "text": [
            "True\n"
          ]
        }
      ]
    },
    {
      "cell_type": "markdown",
      "source": [
        "26. Write a code to create a list, a tuple, and a dictionary, and print them all."
      ],
      "metadata": {
        "id": "CYb3GSgFmM0z"
      }
    },
    {
      "cell_type": "code",
      "source": [
        "lis=[1,2,3,4,5]\n",
        "tup={1,2,3,4,5}\n",
        "dic={'name': 'Alice', 'city': 'Paris'}\n",
        "print(lis,type(lis))\n",
        "print(tup,type(tup))\n",
        "print(dic,type(dic))\n"
      ],
      "metadata": {
        "id": "surAJrEZmWS4",
        "outputId": "c3122394-3881-419b-ee09-52ea4116ec62",
        "colab": {
          "base_uri": "https://localhost:8080/"
        }
      },
      "execution_count": null,
      "outputs": [
        {
          "output_type": "stream",
          "name": "stdout",
          "text": [
            "[1, 2, 3, 4, 5] <class 'list'>\n",
            "{1, 2, 3, 4, 5} <class 'set'>\n",
            "{'name': 'Alice', 'city': 'Paris'} <class 'dict'>\n"
          ]
        }
      ]
    },
    {
      "cell_type": "markdown",
      "source": [
        "27. Write a code to create a list of 5 random numbers between 1 and 100, sort it in ascending order, and print the\n",
        "result.(replaced)"
      ],
      "metadata": {
        "id": "MlWsDL7Pm3IK"
      }
    },
    {
      "cell_type": "code",
      "source": [
        "a=[2,56,78,45,67]\n",
        "a.sort()\n",
        "print(a)"
      ],
      "metadata": {
        "id": "YdIaXy0Sm6yd",
        "outputId": "2e5ae7bc-2d75-4e54-a001-476a24f2309e",
        "colab": {
          "base_uri": "https://localhost:8080/"
        }
      },
      "execution_count": null,
      "outputs": [
        {
          "output_type": "stream",
          "name": "stdout",
          "text": [
            "[2, 45, 56, 67, 78]\n"
          ]
        }
      ]
    },
    {
      "cell_type": "markdown",
      "source": [
        "28.  Write a code to create a list with strings and print the element at the third index."
      ],
      "metadata": {
        "id": "K87aU6rxnBKQ"
      }
    },
    {
      "cell_type": "code",
      "source": [
        "lis=[\"Apple\",\"grapes\",\"Orange\",\"Kiwi\"]\n",
        "lis.insert(2,\"Pineapple\")\n",
        "print(lis)"
      ],
      "metadata": {
        "id": "iHo_fKUqnE1D",
        "outputId": "cbf5942a-afde-42ad-c3ab-f1dd6c5d5c1a",
        "colab": {
          "base_uri": "https://localhost:8080/"
        }
      },
      "execution_count": null,
      "outputs": [
        {
          "output_type": "stream",
          "name": "stdout",
          "text": [
            "['Apple', 'grapes', 'Pineapple', 'Orange', 'Kiwi']\n"
          ]
        }
      ]
    },
    {
      "cell_type": "markdown",
      "source": [
        "29. Write a code to combine two dictionaries into one and print the result"
      ],
      "metadata": {
        "id": "wIvDqUC-nSbX"
      }
    },
    {
      "cell_type": "code",
      "source": [
        "dic1={'name': 'Bob', 'age': 22, 'city': 'New York'}\n",
        "dic2={'name': 'Alice', 'city': 'Paris'}\n",
        "\n",
        "print(dic1|dic2)\n"
      ],
      "metadata": {
        "id": "9Y4IDHUQnV1T",
        "outputId": "adeb00c9-b758-45d9-b445-d90969a3db35",
        "colab": {
          "base_uri": "https://localhost:8080/"
        }
      },
      "execution_count": null,
      "outputs": [
        {
          "output_type": "stream",
          "name": "stdout",
          "text": [
            "{'name': 'Alice', 'age': 22, 'city': 'Paris'}\n"
          ]
        }
      ]
    },
    {
      "cell_type": "markdown",
      "source": [
        "30.  Write a code to convert a list of strings into a set."
      ],
      "metadata": {
        "id": "n9OfCp4TnXDT"
      }
    },
    {
      "cell_type": "code",
      "source": [
        "lis=[\"Apple\",\"Banana\",\"Grapes\",\"Kiwi\"]\n",
        "s=set(lis)\n",
        "print(s,type(s))"
      ],
      "metadata": {
        "id": "fB0n2M3xnaeF",
        "outputId": "8dbee807-b486-4e51-97f6-c4758be66a15",
        "colab": {
          "base_uri": "https://localhost:8080/"
        }
      },
      "execution_count": null,
      "outputs": [
        {
          "output_type": "stream",
          "name": "stdout",
          "text": [
            "{'Grapes', 'Apple', 'Kiwi', 'Banana'} <class 'set'>\n"
          ]
        }
      ]
    }
  ],
  "metadata": {
    "colab": {
      "provenance": []
    },
    "kernelspec": {
      "display_name": "Python 3",
      "name": "python3"
    }
  },
  "nbformat": 4,
  "nbformat_minor": 0
}